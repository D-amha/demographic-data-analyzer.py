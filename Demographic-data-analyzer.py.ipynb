{
 "cells": [
  {
   "cell_type": "code",
   "execution_count": 50,
   "id": "2dd0e5e9-6dc0-4e1b-a296-5660f2c4bd05",
   "metadata": {},
   "outputs": [
    {
     "data": {
      "text/plain": [
       "'Other-service'"
      ]
     },
     "execution_count": 50,
     "metadata": {},
     "output_type": "execute_result"
    }
   ],
   "source": [
    "import pandas as pd\n",
    "\n",
    "df = pd.read_csv('D:/adult-data1154.TXT', nrows=1150, header=0)\n",
    "\n",
    "# How many people of each race are represented in this dataset? \n",
    "race_count = pd.Series(df['race'].value_counts())\n",
    "\n",
    "# What is the average age of men?\n",
    "# Convert 'age' to numeric, coercing errors to NaN\n",
    "df['age'] = pd.to_numeric(df['age'], errors='coerce')\n",
    "\n",
    "# # Calculate the average age of men\n",
    "average_age_men = round(df[df['sex'] == 'Male']['age'].mean(), 1)\n",
    "\n",
    "# What is the percentage of people who have a Bachelor's degree?\n",
    "percentage_of_bachelors = round(df[df['education'] == 'Bachelors'].shape[0] / df.shape[0]*100, 1)\n",
    "\n",
    "# with and without `Bachelors`, `Masters`, or `Doctorate`\n",
    "higher_ed_levels = ['Bachelors', 'Masters', 'Doctorate']\n",
    "\n",
    "higher_ed = df[df['education'].isin(higher_ed_levels)]\n",
    "\n",
    "total_higher_ed = higher_ed.shape[0]\n",
    "\n",
    "lower_ed = df[~(df['education'].isin(higher_ed_levels))]\n",
    "\n",
    "total_lower_ed = lower_ed.shape[0]\n",
    "\n",
    "# # What percentage of people with advanced education (`Bachelors`, `Masters`, or `Doctorate`) make more than 50K?\n",
    "higher_ed_earn_rich = round(higher_education[higher_education['salary'] == '>50K'].shape[0]/total_higher_ed *100, 1)\n",
    "\n",
    "# # What percentage of people without advanced education make more than 50K?\n",
    "lower_ed_earn_rich = round(lower_education[lower_education['salary'] == '>50K'].shape[0]/total_lower_ed *100, 1)\n",
    "\n",
    "# What is the minimum number of hours a person works per week (hours-per-week feature)?\n",
    "min_work_hours = df['hours-per-week'].min()\n",
    "\n",
    "# What percentage of the people who work the minimum number of hours per week have a salary of >50K?\n",
    "min_hours = df[df['hours-per-week'] == df['hours-per-week'].min()]\n",
    "\n",
    "num_min_workers = min_hours.shape[0]\n",
    "\n",
    "rich_percentage = min_hours[min_hours['salary'] == '>50K'].shape[0]/num_min_workers * 100\n",
    "\n",
    "# What country has the highest percentage of people that earn >50K?\n",
    "highest_earning_country = (df[(df['salary'] == '>50K')]['native-country'].value_counts() / df['native-country'].value_counts() * 100).sort_values(ascending=False).index[0]\n",
    "    \n",
    "highest_earning_country_percentage = round((df[(df['salary'] == '>50K')]['native-country'].value_counts() / df['native-country'].value_counts() * 100).max(), 1)\n",
    "\n",
    "# Identify the most popular occupation for those who earn >50K in India.\n",
    "top_IN_occupation = top_IN_occupation = df[(df['native-country'] == 'India') & (df['salary'] == '>50K')]['occupation'].value_counts().index[0]\n",
    "\n",
    "# highest_earning_country = (df[(df['salary'] == '>50K')]['native-country'].value_counts() / df['native-country'].value_counts() * 100).sort_values(ascending=False).index[0]    \n",
    "highest_earning_country_percentage = round((df[(df['salary'] == '>50K')]['native-country'].value_counts() / df['native-country'].value_counts() * 100).max(), 1)\n",
    "\n",
    "# # Identify the most popular occupation for those who earn >50K in India.\n",
    "top_IN_occupation = top_IN_occupation = df[(df['native-country'] == 'India') & (df['salary'] == '>50K')]['occupation'].value_counts().index[0]\n"
   ]
  },
  {
   "cell_type": "code",
   "execution_count": null,
   "id": "939f252a-b476-4b36-bfce-74ca18c769ef",
   "metadata": {},
   "outputs": [],
   "source": []
  }
 ],
 "metadata": {
  "kernelspec": {
   "display_name": "Python 3 (ipykernel)",
   "language": "python",
   "name": "python3"
  },
  "language_info": {
   "codemirror_mode": {
    "name": "ipython",
    "version": 3
   },
   "file_extension": ".py",
   "mimetype": "text/x-python",
   "name": "python",
   "nbconvert_exporter": "python",
   "pygments_lexer": "ipython3",
   "version": "3.12.4"
  },
  "widgets": {
   "application/vnd.jupyter.widget-state+json": {
    "state": {},
    "version_major": 2,
    "version_minor": 0
   }
  }
 },
 "nbformat": 4,
 "nbformat_minor": 5
}
